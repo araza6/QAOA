{
 "cells": [
  {
   "cell_type": "markdown",
   "metadata": {},
   "source": [
    "Grove's source code has been modified to work for the directed graph in this example. The relevant changes can be found in `grove/grove/pyqaoa/maxcut_qaoa.py` in lines 59-62."
   ]
  },
  {
   "cell_type": "code",
   "execution_count": 194,
   "metadata": {},
   "outputs": [],
   "source": [
    "import numpy as np\n",
    "import networkx as nx\n",
    "import random\n",
    "import matplotlib.pyplot as plt\n",
    "from pyquil.api import WavefunctionSimulator\n",
    "from grove.pyqaoa.maxcut_qaoa import maxcut_qaoa\n",
    "from grove.pyvqe.vqe import VQE\n",
    "from scipy.optimize import minimize \n",
    "from pyquil.api import get_qc"
   ]
  },
  {
   "cell_type": "code",
   "execution_count": 212,
   "metadata": {},
   "outputs": [
    {
     "data": {
      "text/plain": [
       "{(0, 3): Text(-0.0633687,-0.777806,'0.8'),\n",
       " (0, 4): Text(0.431375,-0.633418,'1.2'),\n",
       " (3, 5): Text(-0.599585,-0.0959234,'0.1'),\n",
       " (4, 6): Text(0.613474,0.000639022,'0.3'),\n",
       " (5, 1): Text(-0.550105,0.777167,'0.4'),\n",
       " (1, 6): Text(0.16821,0.729342,'0.2')}"
      ]
     },
     "execution_count": 212,
     "metadata": {},
     "output_type": "execute_result"
    },
    {
     "data": {
      "image/png": "[encoded data removed]",
      "text/plain": [
       "<Figure size 432x288 with 1 Axes>"
      ]
     },
     "metadata": {},
     "output_type": "display_data"
    }
   ],
   "source": [
    "#Initialize a weighted undirected graph using networkx\n",
    "\n",
    "G = nx.Graph()\n",
    "\n",
    "G.add_edge(0, 3, weight=0.8)\n",
    "G.add_edge(0, 4, weight=1.2)\n",
    "G.add_edge(3, 5, weight=0.1)\n",
    "G.add_edge(1, 5, weight=0.4)\n",
    "G.add_edge(4, 6, weight=0.3)\n",
    "G.add_edge(6, 1, weight=0.2)\n",
    "\n",
    "pos = nx.spring_layout(G)\n",
    "labels = nx.get_edge_attributes(G,'weight')\n",
    "\n",
    "nx.draw(G, with_labels=True, font_weight='bold')\n",
    "nx.draw_networkx_edge_labels(G, pos, edge_labels=labels)\n"
   ]
  },
  {
   "cell_type": "code",
   "execution_count": 228,
   "metadata": {},
   "outputs": [
    {
     "name": "stdout",
     "output_type": "stream",
     "text": [
      "0 3 0.8\n",
      "0 4 1.2\n",
      "3 5 0.1\n",
      "4 6 0.3\n",
      "5 1 0.4\n",
      "1 6 0.2\n"
     ]
    }
   ],
   "source": [
    "## Checking edges and their corresponing weights\n",
    "edges = list(G.edges)\n",
    "weights = [*nx.get_edge_attributes(G, 'weight').values()]\n",
    "\n",
    "for edge, weight in zip(edges,weights):\n",
    "    print(edge[0],edge[1],weight)\n",
    "#print(G.edges)\n",
    "#print([*nx.get_edge_attributes(G, 'weight').values()])"
   ]
  },
  {
   "cell_type": "code",
   "execution_count": 229,
   "metadata": {},
   "outputs": [
    {
     "name": "stdout",
     "output_type": "stream",
     "text": [
      "WARNING: Fast method for expectation will be used. Noise\n",
      "                     models will be ineffective\n",
      "\tParameters: [2.32425039 6.04379892] \n",
      "\tE => 9.044028976068525\n",
      "\tParameters: [2.56748589 5.69241526] \n",
      "\tE => 8.480911307188226\n",
      "\tParameters: [2.56748589 5.69241526] \n",
      "\tE => 8.782742162252266\n",
      "\tParameters: [2.86477373 5.762692  ] \n",
      "\tE => 8.980935692021925\n",
      "\tParameters: [2.8107214  5.34103161] \n",
      "\tE => 8.71698853515595\n",
      "\tParameters: [2.70261673 5.62213853] \n",
      "\tE => 8.285494009167309\n",
      "\tParameters: [2.70261673 5.62213853] \n",
      "\tE => 8.295192912282369\n",
      "\tParameters: [2.78369523 5.48158507] \n",
      "\tE => 8.257645122828688\n",
      "\tParameters: [2.78369523 5.48158507] \n",
      "\tE => 8.282386589432258\n",
      "\tParameters: [2.78369523 5.48158507] \n",
      "\tE => 8.260775823600955\n",
      "\tParameters: [2.78369523 5.48158507] \n",
      "\tE => 8.25782661153211\n",
      "\tParameters: [2.7321766  5.52111573] \n",
      "\tE => 8.252490480697531\n",
      "\tParameters: [2.73534373 5.50025233] \n",
      "\tE => 8.251110422176048\n",
      "\tParameters: [2.7587277  5.49613455] \n",
      "\tE => 8.250584278769107\n",
      "\tParameters: [2.75446527 5.48673229] \n",
      "\tE => 8.250369516843335\n",
      "\tParameters: [2.74597011 5.49584287] \n",
      "\tE => 8.250056949214873\n",
      "\tParameters: [2.74597011 5.49584287] \n",
      "\tE => 8.250170959778643\n"
     ]
    }
   ],
   "source": [
    "p = 1 #steps or circuit depth. The greater the depth,the more the expectation value is close to the ground\n",
    "#state energy of the hamiltonian\n",
    "inst = maxcut_qaoa(G, steps=p, connection=get_qc(f\"{len(G.nodes)}q-qvm\", noisy=True)) #Noisy case\n",
    "opt_betas, opt_gammas = inst.get_angles()"
   ]
  },
  {
   "cell_type": "code",
   "execution_count": 239,
   "metadata": {},
   "outputs": [
    {
     "data": {
      "image/png": "[encoded data removed]",
      "text/plain": [
       "<Figure size 432x288 with 1 Axes>"
      ]
     },
     "metadata": {
      "needs_background": "light"
     },
     "output_type": "display_data"
    },
    {
     "name": "stdout",
     "output_type": "stream",
     "text": [
      "Optimal State: 001110\n"
     ]
    }
   ],
   "source": [
    "t = np.hstack((opt_betas, opt_gammas))\n",
    "param_prog = inst.get_parameterized_program()\n",
    "prog = param_prog(t)\n",
    "wf = WavefunctionSimulator().wavefunction(prog)\n",
    "wf = wf.amplitudes\n",
    "states = []\n",
    "probs = []\n",
    "for state_index in range(inst.nstates):\n",
    "    states.append(inst.states[state_index])\n",
    "    probs.append(np.conj(wf[state_index]) * wf[state_index])\n",
    "#probs = wf.probabilities()\n",
    "plt.bar(states,probs)\n",
    "plt.show()\n",
    "print(\"Optimal State:\",inst.states[np.argmax(probs)])"
   ]
  },
  {
   "cell_type": "markdown",
   "metadata": {},
   "source": [
    "# Observations\n",
    "\n",
    "* We already see the two peaks with circuit depth 1, which gives us reasonable confidence that if we increase the circuit depth, i.e the value of `step` variable or play around with `minimizer_kwargs` to try different solvers, we will get two very sharp pointed peaks.  \n",
    "* Since the graph is cyclic, we would expect the optimal state to be symmetric as can be seen in the graph as well. As we that one state is 001110, the other state is going to be 110001\n"
   ]
  },
  {
   "cell_type": "code",
   "execution_count": 232,
   "metadata": {},
   "outputs": [
    {
     "name": "stdout",
     "output_type": "stream",
     "text": [
      "Ground State Energy: -1.4658437625811247\n"
     ]
    }
   ],
   "source": [
    "A = nx.to_numpy_matrix(G)\n",
    "eigv = np.linalg.eigvals(A)\n",
    "\n",
    "print(\"Ground State Energy:\",min(eigv))"
   ]
  },
  {
   "cell_type": "code",
   "execution_count": 233,
   "metadata": {},
   "outputs": [
    {
     "name": "stdout",
     "output_type": "stream",
     "text": [
      "WARNING: Fast method for expectation will be used. Noise\n",
      "                     models will be ineffective\n",
      "\tParameters: [1.23416799 5.42297102] \n",
      "\tE => 8.276955251442985\n",
      "\tParameters: [1.23416799 5.42297102] \n",
      "\tE => 8.296730860093396\n",
      "\tParameters: [1.17676483 5.42297102] \n",
      "\tE => 8.258391057189044\n",
      "\tParameters: [1.19111562 5.54908663] \n",
      "\tE => 8.254955285852057\n",
      "\tParameters: [1.15882634 5.51755773] \n",
      "\tE => 8.252811600859449\n",
      "\tParameters: [1.1758679 5.4781466] \n",
      "\tE => 8.250608348764137\n",
      "\tParameters: [1.1758679 5.4781466] \n",
      "\tE => 8.250996856699194\n",
      "\tParameters: [1.18691128 5.49243313] \n",
      "\tE => 8.250509046325702\n",
      "\tParameters: [1.18031048 5.50437963] \n",
      "\tE => 8.250094578066323\n",
      "\tParameters: [1.18031048 5.50437963] \n",
      "\tE => 8.250151851595092\n",
      "\tParameters: [1.17658176 5.49827552] \n",
      "\tE => 8.25001413786035\n"
     ]
    }
   ],
   "source": [
    "##Noiseless case\n",
    "p = 1 #steps or circuit depth. The greater the depth,the more the expectation value is close to the ground\n",
    "#state energy of the hamiltonian\n",
    "inst = maxcut_qaoa(G, steps=p, connection=get_qc(f\"{len(G.nodes)}q-qvm\", noisy=False)) #Noisy case\n",
    "opt_betas, opt_gammas = inst.get_angles()"
   ]
  },
  {
   "cell_type": "code",
   "execution_count": 234,
   "metadata": {},
   "outputs": [
    {
     "data": {
      "image/png": "[encoded data removed]",
      "text/plain": [
       "<Figure size 432x288 with 1 Axes>"
      ]
     },
     "metadata": {
      "needs_background": "light"
     },
     "output_type": "display_data"
    }
   ],
   "source": [
    "t = np.hstack((opt_betas, opt_gammas))\n",
    "param_prog = inst.get_parameterized_program()\n",
    "prog = param_prog(t)\n",
    "wf = WavefunctionSimulator().wavefunction(prog)\n",
    "wf = wf.amplitudes\n",
    "states = []\n",
    "probs = []\n",
    "for state_index in range(inst.nstates):\n",
    "    states.append(inst.states[state_index])\n",
    "    probs.append(np.conj(wf[state_index]) * wf[state_index])\n",
    "#probs = wf.probabilities()\n",
    "plt.bar(states,probs)\n",
    "plt.show()\n",
    "print(\"Optimal State:\",inst.states[np.argmax(probs)])"
   ]
  },
  {
   "cell_type": "markdown",
   "metadata": {},
   "source": [
    "# Observations (Noiseless Case)\n",
    "* We see that there is no noticeable decrease in performance. $E_{noisy}=8.250170959778643$, whereas $E_{noiseless}=8.25001413786035$. Noisless expectation is _slightly_ better on 4th decimal place, implying that VQE is robust to noise\n",
    "* Finally note that the ground state energy of this hamiltonian would is $-1.4658437625811247$, which is to say that if were to run this for an infinite time, the expectations would converge to this value. However, our expecation value in just one circuit step is close enough to the ground state energy such that it can identify candidate optimal states"
   ]
  },
  {
   "cell_type": "code",
   "execution_count": null,
   "metadata": {},
   "outputs": [],
   "source": []
  }
 ],
 "metadata": {
  "kernelspec": {
   "display_name": "Python 3",
   "language": "python",
   "name": "python3"
  },
  "language_info": {
   "codemirror_mode": {
    "name": "ipython",
    "version": 3
   },
   "file_extension": ".py",
   "mimetype": "text/x-python",
   "name": "python",
   "nbconvert_exporter": "python",
   "pygments_lexer": "ipython3",
   "version": "3.6.9"
  }
 },
 "nbformat": 4,
 "nbformat_minor": 2
}
